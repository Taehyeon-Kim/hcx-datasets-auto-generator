{
  "nbformat": 4,
  "nbformat_minor": 0,
  "metadata": {
    "colab": {
      "provenance": []
    },
    "kernelspec": {
      "name": "python3",
      "display_name": "Python 3"
    },
    "language_info": {
      "name": "python"
    }
  },
  "cells": [
    {
      "cell_type": "markdown",
      "source": [
        "# HyperCLOVA X 캐릭터챗봇 튜닝용 데이터셋 만들기\n",
        "📅 2024-07-06   \n",
        "🧑🏻‍💻 외계공룡\n",
        "    \n",
        "# 🚀 사용방법\n",
        "1. colab(https://colab.google/) 접속\n",
        "2. `hcx_character_datasets_generator.ipynb` 불러오기\n",
        "3. `datasets.csv` 파일 업로드\n",
        "4. API 정보 입력\n",
        "5. 프롬프트 변경\n",
        "6. 전체 코드 실행"
      ],
      "metadata": {
        "id": "GHB7lNc8_vGe"
      }
    },
    {
      "cell_type": "code",
      "source": [
        "!python --version # 파이썬 버전확인"
      ],
      "metadata": {
        "colab": {
          "base_uri": "https://localhost:8080/"
        },
        "id": "RqfG66BpAfcT",
        "outputId": "8df834b7-a743-4093-d46f-324a8d9dd497"
      },
      "execution_count": 1,
      "outputs": [
        {
          "output_type": "stream",
          "name": "stdout",
          "text": [
            "Python 3.10.12\n"
          ]
        }
      ]
    },
    {
      "cell_type": "markdown",
      "source": [
        "### API 정보 입력\n",
        "- ❗하단에 CLOVA Studio 테스트 앱 API 정보 입력"
      ],
      "metadata": {
        "id": "FbOCi25EBQ_4"
      }
    },
    {
      "cell_type": "code",
      "source": [
        "X_NCP_CLOVASTUDIO_API_KEY='X-NCP-CLOVASTUDIO-API-KEY'\n",
        "X_NCP_APIGW_API_KEY='X-NCP-APIGW-API-KEY'\n",
        "X_NCP_CLOVASTUDIO_REQUEST_ID='X-NCP-CLOVASTUDIO-REQUEST-ID'"
      ],
      "metadata": {
        "id": "CG6uYggpETRe"
      },
      "execution_count": 12,
      "outputs": []
    },
    {
      "cell_type": "markdown",
      "source": [
        "### 캐릭터 답변생성 프롬프트\n",
        "- 🪄 원하는 캐릭터 답변생성 프롬프트로 변경    \n",
        "- 하단은 귀멸의칼날 '카마도 탄지로' 캐릭터 예시\n"
      ],
      "metadata": {
        "id": "M3yyimP_FMKL"
      }
    },
    {
      "cell_type": "code",
      "source": [
        "prompt = '''\n",
        "1. 당신은 일본애니메이션인 귀멸의칼날에 등장하는 주인공 카마도 탄지로 입니다.\n",
        "2. 카마도 탄지로가 되어서 사용자와 대화를 진행합니다.\n",
        "3. 아래의 ###아이덴티티###를 참고하세요.\n",
        "4. ###대화 패턴###을 참고해서 카마도 탄지로처럼 질문에 대해 답변해주세요.\n",
        "\n",
        "###아이덴티티###\n",
        "https://namu.wiki/w/%EC%B9%B4%EB%A7%88%EB%8F%84%20%ED%83%84%EC%A7%80%EB%A1%9C\n",
        "\n",
        "###대화 패턴###\n",
        "- 카마도 탄지로는 본인보다 나이가 많으면 ~씨라는 존칭을 붙인다.\n",
        "- 사용자에게는 반말로 답변한다.\n",
        "- 등장인물들을 자주 언급한다.\n",
        "- 카마도 탄지로는 과거회상을 자주한다.\n",
        "- 답변을 길게한다.\n",
        "'''"
      ],
      "metadata": {
        "id": "QQbtAPQoFTz9"
      },
      "execution_count": 34,
      "outputs": []
    },
    {
      "cell_type": "markdown",
      "source": [
        "# 실행 코드\n",
        "- row 수 만큼 반복문 실행됨\n",
        "- 💸 과금 주의"
      ],
      "metadata": {
        "id": "HVHaiSGvZ4GT"
      }
    },
    {
      "cell_type": "code",
      "source": [
        "import json\n",
        "import requests\n",
        "import csv\n",
        "\n",
        "class CompletionGenerator:\n",
        "    host='https://clovastudio.stream.ntruss.com'\n",
        "    def __init__(self):\n",
        "        pass\n",
        "\n",
        "    def execute(self, completion_request):\n",
        "        headers = {\n",
        "            'X-NCP-CLOVASTUDIO-API-KEY': X_NCP_CLOVASTUDIO_API_KEY,\n",
        "            'X-NCP-APIGW-API-KEY': X_NCP_APIGW_API_KEY,\n",
        "            'X-NCP-CLOVASTUDIO-REQUEST-ID': X_NCP_CLOVASTUDIO_REQUEST_ID,\n",
        "            'Content-Type': 'application/json; charset=utf-8',\n",
        "        }\n",
        "\n",
        "        response = requests.post(self.host + '/testapp/v1/chat-completions/HCX-003',headers=headers, json=completion_request, stream=False)\n",
        "        json_data = json.loads(response.text)\n",
        "        return json_data['result']['message']['content']\n",
        "\n",
        "\n",
        "if __name__ == '__main__':\n",
        "\n",
        "    with open('datasets.csv', 'r') as file:\n",
        "        reader = csv.reader(file)\n",
        "        rows = list(reader)\n",
        "\n",
        "    completion_generator = CompletionGenerator()\n",
        "\n",
        "    for row in rows:\n",
        "        if not row[3]:\n",
        "            request_body = {\n",
        "                'messages': [\n",
        "                    {\"role\":\"system\",\"content\":prompt},\n",
        "                    {\"role\":\"user\",\"content\":row[2]}\n",
        "                ],\n",
        "                'topP': 0.8,\n",
        "                'topK': 0,\n",
        "                'maxTokens': 500,\n",
        "                'temperature': 0.8,\n",
        "                'repeatPenalty': 5.0,\n",
        "                'stopBefore': [],\n",
        "                'includeAiFilters': True,\n",
        "                'seed': 0\n",
        "            }\n",
        "\n",
        "            row[3] = completion_generator.execute(request_body)\n",
        "            print(row[3])\n",
        "\n",
        "    with open('datasets.csv', 'w', newline='') as file:\n",
        "        writer = csv.writer(file)\n",
        "        writer.writerows(rows)"
      ],
      "metadata": {
        "id": "BiBUX6m8BVFa"
      },
      "execution_count": 48,
      "outputs": []
    }
  ]
}