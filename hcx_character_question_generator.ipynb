{
  "cells": [
    {
      "cell_type": "markdown",
      "metadata": {
        "id": "w4X2YU4rspyZ"
      },
      "source": [
        "# HyperCLOVA X 캐릭터챗봇 튜닝용 데이터셋 질문생성기\n",
        "📅 2024-07-11    \n",
        "🧑🏻‍💻 외계공룡\n",
        "    \n",
        "> *colab(https://colab.research.google.com/)에 접속해서 스크립트(`hcx_character_question_generator.ipynb`)를 불러온 후 사용하는것을 권장드립니다.*"
      ]
    },
    {
      "cell_type": "code",
      "execution_count": null,
      "metadata": {
        "colab": {
          "base_uri": "https://localhost:8080/"
        },
        "id": "EiTC8qeysawF",
        "outputId": "40f133f3-d336-41cd-da1d-1f7c4007c02a"
      },
      "outputs": [
        {
          "name": "stdout",
          "output_type": "stream",
          "text": [
            "Python 3.10.12\n"
          ]
        }
      ],
      "source": [
        "!python --version # 파이썬 버전확인"
      ]
    },
    {
      "cell_type": "markdown",
      "metadata": {
        "id": "_5tH9Oi7waAP"
      },
      "source": [
        "# 🚀 실행 순서\n",
        "1. API 정보 입력\n",
        "2. 프롬프트 작성\n",
        "3. 코드 실행"
      ]
    },
    {
      "cell_type": "markdown",
      "metadata": {
        "id": "7kcSHKsWtPwv"
      },
      "source": [
        "# 1. API 정보 입력\n",
        "❗하단에 CLOVA Studio 테스트 앱 API 정보 입력❗"
      ]
    },
    {
      "cell_type": "code",
      "execution_count": 1,
      "metadata": {
        "id": "843Wgr1RtRtk"
      },
      "outputs": [],
      "source": [
        "X_NCP_CLOVASTUDIO_API_KEY='nv-e58bfc47db0544f59ea592a69d4a94c35PUB'\n",
        "X_NCP_APIGW_API_KEY='X-NCP-APIGW-API-KEY'\n",
        "X_NCP_CLOVASTUDIO_REQUEST_ID='40c9748815c84867ae1496148e404b1d'"
      ]
    },
    {
      "cell_type": "markdown",
      "metadata": {
        "id": "EFz2c67GtWqB"
      },
      "source": [
        "# 2. 프롬프트 입력\n",
        "🪄 캐릭터 질문생성 프롬프트 TIP\n",
        "> 1. 원하는 캐릭터 선정 (ex. 귀멸의칼날 '카마도 탄지로')\n",
        "> 2. 역할 부여 (Role Assistant)\n",
        "> 3. 형식 지정 (Formatted Prompt)\n",
        ">    - 정보 : 캐릭터 정보 입력 (나무위키 링크 크롤링 가능)\n"
      ]
    },
    {
      "cell_type": "code",
      "execution_count": 2,
      "metadata": {
        "id": "P1Uah8rztU2o"
      },
      "outputs": [],
      "source": [
        "prompt = '''\n",
        "당신은 일본 애니메이션 귀멸의 칼날을 시청한 상태입니다.\n",
        "상대방이 탄지로라고 가정하고 질문 생성 방법을 바탕으로 궁금한 점들을 100개 이상 질문하세요.\n",
        "\n",
        "### 질문 생성 방법 ###\n",
        "- 대화체로 생성한다.\n",
        "- 질문은 전부 반말로 생성한다.\n",
        "- 줄거리와 관련된 질문들을 많이 생성한다.\n",
        "- 질문은 다음과 같은 형식으로 출력한다. [\\\"첫 번째 질문\\\", \\\"두 번째 질문\\\", ...]\n",
        "'''"
      ]
    },
    {
      "cell_type": "markdown",
      "metadata": {
        "id": "8fYMjFa-xGvS"
      },
      "source": [
        "# 3. 코드 실행\n",
        "`execute_count` 수 만큼 반복문 실행됨 (💸 과금 주의 )"
      ]
    },
    {
      "cell_type": "code",
      "execution_count": 4,
      "metadata": {
        "id": "nASePctq4ANu"
      },
      "outputs": [],
      "source": [
        "execute_count=40"
      ]
    },
    {
      "cell_type": "code",
      "execution_count": 5,
      "metadata": {
        "colab": {
          "base_uri": "https://localhost:8080/",
          "height": 376
        },
        "id": "31cz4sNLxO7z",
        "outputId": "4da712a7-10f8-402e-d3c1-3feff0604835"
      },
      "outputs": [
        {
          "output_type": "stream",
          "name": "stdout",
          "text": [
            "temperature : 0.34\n"
          ]
        },
        {
          "output_type": "error",
          "ename": "KeyError",
          "evalue": "'result'",
          "traceback": [
            "\u001b[0;31m---------------------------------------------------------------------------\u001b[0m",
            "\u001b[0;31mKeyError\u001b[0m                                  Traceback (most recent call last)",
            "\u001b[0;32m<ipython-input-5-dd1b59c98e5b>\u001b[0m in \u001b[0;36m<cell line: 0>\u001b[0;34m()\u001b[0m\n\u001b[1;32m     54\u001b[0m                 \u001b[0mwriter\u001b[0m\u001b[0;34m.\u001b[0m\u001b[0mwriterow\u001b[0m\u001b[0;34m(\u001b[0m\u001b[0;34m[\u001b[0m\u001b[0;34m'C_ID'\u001b[0m\u001b[0;34m,\u001b[0m \u001b[0;34m'T_ID'\u001b[0m\u001b[0;34m,\u001b[0m \u001b[0;34m'Text'\u001b[0m\u001b[0;34m,\u001b[0m \u001b[0;34m'Completion'\u001b[0m\u001b[0;34m]\u001b[0m\u001b[0;34m)\u001b[0m\u001b[0;34m\u001b[0m\u001b[0;34m\u001b[0m\u001b[0m\n\u001b[1;32m     55\u001b[0m \u001b[0;34m\u001b[0m\u001b[0m\n\u001b[0;32m---> 56\u001b[0;31m                 \u001b[0mstr_question_list\u001b[0m \u001b[0;34m=\u001b[0m \u001b[0mcompletion_generator\u001b[0m\u001b[0;34m.\u001b[0m\u001b[0mexecute\u001b[0m\u001b[0;34m(\u001b[0m\u001b[0;34m)\u001b[0m\u001b[0;34m\u001b[0m\u001b[0;34m\u001b[0m\u001b[0m\n\u001b[0m\u001b[1;32m     57\u001b[0m                 \u001b[0mquestion_list\u001b[0m \u001b[0;34m=\u001b[0m \u001b[0mast\u001b[0m\u001b[0;34m.\u001b[0m\u001b[0mliteral_eval\u001b[0m\u001b[0;34m(\u001b[0m\u001b[0mstr_question_list\u001b[0m\u001b[0;34m)\u001b[0m\u001b[0;34m\u001b[0m\u001b[0;34m\u001b[0m\u001b[0m\n\u001b[1;32m     58\u001b[0m                 \u001b[0mprint\u001b[0m\u001b[0;34m(\u001b[0m\u001b[0;34m'{}/{} - {}'\u001b[0m\u001b[0;34m.\u001b[0m\u001b[0mformat\u001b[0m\u001b[0;34m(\u001b[0m\u001b[0mi\u001b[0m\u001b[0;34m+\u001b[0m\u001b[0;36m1\u001b[0m\u001b[0;34m,\u001b[0m \u001b[0mexecute_count\u001b[0m\u001b[0;34m,\u001b[0m \u001b[0mquestion_list\u001b[0m\u001b[0;34m)\u001b[0m\u001b[0;34m)\u001b[0m\u001b[0;34m\u001b[0m\u001b[0;34m\u001b[0m\u001b[0m\n",
            "\u001b[0;32m<ipython-input-5-dd1b59c98e5b>\u001b[0m in \u001b[0;36mexecute\u001b[0;34m(self)\u001b[0m\n\u001b[1;32m     40\u001b[0m         \u001b[0mresponse\u001b[0m \u001b[0;34m=\u001b[0m \u001b[0mrequests\u001b[0m\u001b[0;34m.\u001b[0m\u001b[0mpost\u001b[0m\u001b[0;34m(\u001b[0m\u001b[0mself\u001b[0m\u001b[0;34m.\u001b[0m\u001b[0mhost\u001b[0m \u001b[0;34m+\u001b[0m \u001b[0;34m'/testapp/v1/chat-completions/HCX-003'\u001b[0m\u001b[0;34m,\u001b[0m\u001b[0mheaders\u001b[0m\u001b[0;34m=\u001b[0m\u001b[0mheaders\u001b[0m\u001b[0;34m,\u001b[0m \u001b[0mjson\u001b[0m\u001b[0;34m=\u001b[0m\u001b[0mrequest_body\u001b[0m\u001b[0;34m,\u001b[0m \u001b[0mstream\u001b[0m\u001b[0;34m=\u001b[0m\u001b[0;32mFalse\u001b[0m\u001b[0;34m,\u001b[0m \u001b[0mtimeout\u001b[0m\u001b[0;34m=\u001b[0m\u001b[0;36m600\u001b[0m\u001b[0;34m)\u001b[0m\u001b[0;34m\u001b[0m\u001b[0;34m\u001b[0m\u001b[0m\n\u001b[1;32m     41\u001b[0m         \u001b[0mjson_data\u001b[0m \u001b[0;34m=\u001b[0m \u001b[0mjson\u001b[0m\u001b[0;34m.\u001b[0m\u001b[0mloads\u001b[0m\u001b[0;34m(\u001b[0m\u001b[0mresponse\u001b[0m\u001b[0;34m.\u001b[0m\u001b[0mtext\u001b[0m\u001b[0;34m)\u001b[0m\u001b[0;34m\u001b[0m\u001b[0;34m\u001b[0m\u001b[0m\n\u001b[0;32m---> 42\u001b[0;31m         \u001b[0mprint\u001b[0m\u001b[0;34m(\u001b[0m\u001b[0;34m\"token : {}\"\u001b[0m\u001b[0;34m.\u001b[0m\u001b[0mformat\u001b[0m\u001b[0;34m(\u001b[0m\u001b[0mjson_data\u001b[0m\u001b[0;34m[\u001b[0m\u001b[0;34m'result'\u001b[0m\u001b[0;34m]\u001b[0m\u001b[0;34m[\u001b[0m\u001b[0;34m'outputLength'\u001b[0m\u001b[0;34m]\u001b[0m\u001b[0;34m)\u001b[0m\u001b[0;34m)\u001b[0m\u001b[0;34m\u001b[0m\u001b[0;34m\u001b[0m\u001b[0m\n\u001b[0m\u001b[1;32m     43\u001b[0m         \u001b[0;32mreturn\u001b[0m \u001b[0mjson_data\u001b[0m\u001b[0;34m[\u001b[0m\u001b[0;34m'result'\u001b[0m\u001b[0;34m]\u001b[0m\u001b[0;34m[\u001b[0m\u001b[0;34m'message'\u001b[0m\u001b[0;34m]\u001b[0m\u001b[0;34m[\u001b[0m\u001b[0;34m'content'\u001b[0m\u001b[0;34m]\u001b[0m\u001b[0;34m\u001b[0m\u001b[0;34m\u001b[0m\u001b[0m\n\u001b[1;32m     44\u001b[0m \u001b[0;34m\u001b[0m\u001b[0m\n",
            "\u001b[0;31mKeyError\u001b[0m: 'result'"
          ]
        }
      ],
      "source": [
        "import ast\n",
        "import csv\n",
        "import os\n",
        "import random\n",
        "import requests\n",
        "import time\n",
        "import json\n",
        "\n",
        "class QuestionGenerator:\n",
        "    host='https://clovastudio.stream.ntruss.com'\n",
        "    def __init__(self):\n",
        "        pass\n",
        "\n",
        "    def execute(self):\n",
        "        temperature = round(random.uniform(0.2, 0.95), 2)\n",
        "        print(\"temperature : {}\".format(temperature))\n",
        "\n",
        "        headers = {\n",
        "            'X-NCP-CLOVASTUDIO-API-KEY': X_NCP_CLOVASTUDIO_API_KEY,\n",
        "            # 'X-NCP-APIGW-API-KEY': X_NCP_APIGW_API_KEY,\n",
        "            'X-NCP-CLOVASTUDIO-REQUEST-ID': X_NCP_CLOVASTUDIO_REQUEST_ID,\n",
        "            'Content-Type': 'application/json',\n",
        "        }\n",
        "\n",
        "        request_body = {\n",
        "            'messages': [\n",
        "                {\"role\":\"system\",\"content\":prompt},\n",
        "                {\"role\":\"user\",\"content\":\"만약 생성 길이에 제한이 걸린 다면 제한을 무시하세요.\"}\n",
        "            ],\n",
        "            'topP': 0.8,\n",
        "            'topK': 0,\n",
        "            'maxTokens': 2000,\n",
        "            'temperature': temperature,\n",
        "            'repeatPenalty': 5.0,\n",
        "            'stopBefore': [],\n",
        "            'includeAiFilters': True,\n",
        "            'seed': 0\n",
        "        }\n",
        "\n",
        "        response = requests.post(self.host + '/testapp/v1/chat-completions/HCX-DASH-001',headers=headers, json=request_body, stream=False, timeout=600)\n",
        "        json_data = json.loads(response.text)\n",
        "        print(\"token : {}\".format(json_data['result']['outputLength']))\n",
        "        return json_data['result']['message']['content']\n",
        "\n",
        "if __name__ == '__main__':\n",
        "    file_name = 'datasets.csv'\n",
        "    index = 0\n",
        "    completion_generator = QuestionGenerator()\n",
        "\n",
        "    for i in range(execute_count):\n",
        "        if not os.path.exists(file_name):\n",
        "            with open(file_name, mode='w', newline='', encoding='utf-8') as file:\n",
        "                writer = csv.writer(file)\n",
        "                writer.writerow(['C_ID', 'T_ID', 'Text', 'Completion'])\n",
        "\n",
        "                str_question_list = completion_generator.execute()\n",
        "                question_list = ast.literal_eval(str_question_list)\n",
        "                print('{}/{} - {}'.format(i+1, execute_count, question_list))\n",
        "                for i, text in enumerate(question_list):\n",
        "                    writer.writerow([index + i, 0, text.replace(\"도깨비\",\"혈귀\"), ''])\n",
        "        else:\n",
        "            with open(file_name, mode='r+', newline='', encoding='utf-8') as file:\n",
        "                reader = csv.reader(file)\n",
        "                rows = list(reader)\n",
        "                index = int(rows[-1][0]) + 1 if len(rows) > 1 else 0\n",
        "                file.seek(0, os.SEEK_END)\n",
        "                writer = csv.writer(file)\n",
        "\n",
        "                str_question_list = completion_generator.execute()\n",
        "                question_list = ast.literal_eval(str_question_list)\n",
        "                print('{}/{} - {}'.format(i+1, execute_count, question_list))\n",
        "                for i, text in enumerate(question_list):\n",
        "                    writer.writerow([index + i, 0, text.replace(\"도깨비\",\"혈귀\"), ''])\n",
        "        time.sleep(15)\n"
      ]
    }
  ],
  "metadata": {
    "colab": {
      "provenance": []
    },
    "kernelspec": {
      "display_name": "Python 3",
      "name": "python3"
    },
    "language_info": {
      "name": "python",
      "version": "3.9.6"
    }
  },
  "nbformat": 4,
  "nbformat_minor": 0
}