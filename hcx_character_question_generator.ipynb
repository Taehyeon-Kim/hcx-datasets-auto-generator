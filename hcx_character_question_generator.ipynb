{
  "cells": [
    {
      "cell_type": "markdown",
      "metadata": {
        "id": "w4X2YU4rspyZ"
      },
      "source": [
        "# HyperCLOVA X 캐릭터챗봇 튜닝용 데이터셋 질문생성기\n",
        "📅 2024-07-11    \n",
        "🧑🏻‍💻 외계공룡\n",
        "    \n",
        "> *colab(https://colab.google/)에 접속해서 스크립트(`hcx_character_question_generator.ipynb`)를 불러온 후 사용하는것을 권장드립니다.*"
      ]
    },
    {
      "cell_type": "code",
      "execution_count": 1,
      "metadata": {
        "colab": {
          "base_uri": "https://localhost:8080/"
        },
        "id": "EiTC8qeysawF",
        "outputId": "40f133f3-d336-41cd-da1d-1f7c4007c02a"
      },
      "outputs": [
        {
          "name": "stdout",
          "output_type": "stream",
          "text": [
            "Python 3.10.12\n"
          ]
        }
      ],
      "source": [
        "!python --version # 파이썬 버전확인"
      ]
    },
    {
      "cell_type": "markdown",
      "metadata": {
        "id": "_5tH9Oi7waAP"
      },
      "source": [
        "# 🚀 실행 순서\n",
        "1. API 정보 입력\n",
        "2. 프롬프트 작성\n",
        "3. 코드 실행"
      ]
    },
    {
      "cell_type": "markdown",
      "metadata": {
        "id": "7kcSHKsWtPwv"
      },
      "source": [
        "# 1. API 정보 입력\n",
        "❗하단에 CLOVA Studio 테스트 앱 API 정보 입력❗"
      ]
    },
    {
      "cell_type": "code",
      "execution_count": 2,
      "metadata": {
        "id": "843Wgr1RtRtk"
      },
      "outputs": [],
      "source": [
        "X_NCP_CLOVASTUDIO_API_KEY='X-NCP-CLOVASTUDIO-API-KEY'\n",
        "X_NCP_APIGW_API_KEY='X-NCP-APIGW-API-KEY'\n",
        "X_NCP_CLOVASTUDIO_REQUEST_ID='X-NCP-CLOVASTUDIO-REQUEST-ID'"
      ]
    },
    {
      "cell_type": "markdown",
      "metadata": {
        "id": "EFz2c67GtWqB"
      },
      "source": [
        "# 2. 프롬프트 입력\n",
        "🪄 캐릭터 질문생성 프롬프트 TIP\n",
        "> 1. 원하는 캐릭터 선정 (ex. 귀멸의칼날 '카마도 탄지로')\n",
        "> 2. 역할 부여 (Role Assistant)\n",
        "> 3. 형식 지정 (Formatted Prompt)\n",
        ">    - 정보 : 캐릭터 정보 입력 (나무위키 링크 크롤링 가능)\n"
      ]
    },
    {
      "cell_type": "code",
      "execution_count": 3,
      "metadata": {
        "id": "P1Uah8rztU2o"
      },
      "outputs": [],
      "source": [
        "prompt = '''\n",
        "당신은 일본 애니메이션 귀멸의 칼날을 시청한 상태입니다.\n",
        "상대방이 탄지로라고 가정하고 아래 정보와 질문 생성 방법을 바탕으로 궁금한 점들을 100개 이상 질문하세요.\n",
        "단, 정보를 파악할 때는 주의사항을 반드시 지켜주세요.\n",
        "\n",
        "### 정보 ###\n",
        "https://namu.wiki/w/%EC%B9%B4%EB%A7%88%EB%8F%84%20%ED%83%84%EC%A7%80%EB%A1%9C\n",
        "\n",
        "### 정보 파악시 주의사항 ###\n",
        "- 귀멸학원에 해당하는 내용은 사용하지 않는다.\n",
        "\n",
        "### 질문 생성 방법 ###\n",
        "- 대화체로 생성한다.\n",
        "- 질문은 전부 반말로 생성한다.\n",
        "- 줄거리와 관련된 질문들을 많이 생성한다.\n",
        "- 질문은 다음과 같은 형식으로 출력한다. [\\\"첫 번째 질문\\\", \\\"두 번째 질문\\\", ...]\n",
        "'''"
      ]
    },
    {
      "cell_type": "markdown",
      "metadata": {
        "id": "8fYMjFa-xGvS"
      },
      "source": [
        "# 3. 코드 실행\n",
        "`execute_count` 수 만큼 반복문 실행됨 (💸 과금 주의 )"
      ]
    },
    {
      "cell_type": "code",
      "execution_count": 5,
      "metadata": {
        "id": "nASePctq4ANu"
      },
      "outputs": [],
      "source": [
        "execute_count=40"
      ]
    },
    {
      "cell_type": "code",
      "execution_count": 8,
      "metadata": {
        "colab": {
          "base_uri": "https://localhost:8080/"
        },
        "id": "31cz4sNLxO7z",
        "outputId": "3054cf16-40f7-46ef-e27a-f8cb866dd027"
      },
      "outputs": [
        {
          "name": "stdout",
          "output_type": "stream",
          "text": [
            "temperature : 0.88\n",
            "token : 169\n",
            "1/10 - ['탄지로의 가족관계는 어떻게 돼?', '네즈코가 인간으로 돌아올 수 있는 방법을 알아냈어?', '처음 도깨비를 만났을 때 어떤 기분이 들었어?', '도깨비에게 가족을 잃었을 때 왜 울었어?', '네츠코 말고 다른 도깨비를 만난 적 있어?', '히노카미 카구라라는 기술은 어떻게 배웠어?', '충주 코쵸우 시노부와는 어떻게 만났어?', '젠이츠랑 이노스케는 어떻게 만나게 됐어?', '혈귀술이라는게 뭐야?', '최종국면에서 도우마와의 싸움에서 어떻게 이겼어?', '렌고쿠 쿄쥬로랑은 어떻게 친해졌어?', '무한열차에서 아카자와 싸울 때 정말 죽을 위기였어?', '키부츠지 무잔과는 언제 싸워?', '카마도 가문의 혈귀술인 반점은 언제 생겼어?']\n",
            "temperature : 0.37\n",
            "token : 158\n",
            "2/10 - ['탄지로 너는 카마도 가문의 장남이지?', '너의 가족들은 도깨비에게 몰살 당했다고 하던데 사실이야?', '도깨비가 된 네즈코를 사람으로 되돌리기 위해 무한열차에 탑승했다던데 어떻게 됐어?', '네즈코 말고 다른 도깨비들도 만났어?', '젠이츠랑 이노스케와는 어떻게 친해졌어?', '네가 쓰는 호흡 기술 이름이 물의 호흡 맞지?', '물의 호흡말고 다른 호흡기술도 쓸 줄 알아?', '무한열차에서 만난 아카자와 싸웠을 때 물의 호흡 몇형 썼어?', '최종국면에서는 어떤 도깨비들이랑 싸웠어?', '상현 도깨비들과도 싸워봤어?', '귀살대 주들 중 누구를 제일 존경해?', '네즈코 인간으로 돌아올 수 있는거야?']\n",
            "temperature : 0.54\n",
            "token : 191\n",
            "3/10 - ['탄지로가 처음 도깨비를 만났을 때 어떤 감정을 느꼈어?', '도깨비에게 가족을 잃은 후 어떻게 지냈어?', '네즈코를 처음 만났을 때 어땠어?', '네즈코가 도깨비로 변했을 때 어떻게 대처했어?', '젠이츠와 이노스케와는 어떻게 만났어?', '충주 코쵸우 시노부와는 어떻게 만났어?', '무한열차에서 만난 아카자와 전투에서는 승리했지만 상처를 입었잖아? 그 이후에는 어떻게 회복했어?', '최종국면에서 무잔과의 전투에서는 어떻게 이겼어?', '혈귀술 중 가장 마음에 드는 기술은 뭐야?', '좋아하는 음식은 뭐야?', '가족들 중 누구를 가장 좋아해?', '네즈코 말고 다른 도깨비를 만난 적 있어?', '동생 네즈코를 엄청 아끼던데 동생한테 바라는 게 있을까?', '왜 하필 도깨비 사냥꾼이 되기로 결심했을까?', '전투 중 위기 상황일 때 극복하는 방법이 따로 있어?']\n",
            "temperature : 0.64\n",
            "token : 212\n",
            "4/10 - ['탄지로가 처음 만난 도깨비는 누구야?', '도깨비에게 가족을 잃은 후 어떻게 지냈어?', '네즈코를 처음 만났을 때 어땠어?', '네즈코랑 같이 지내면서 어떤 일들이 있었어?', '젠이츠와는 어떻게 만났어?', '이노스케와는 어떻게 친해졌어?', '무한열차에서 쿄주로와 싸웠을 때 기분이 어땠어?', '쿄주로의 마지막 말을 들었을 때 심정이 어땠어?', '유곽편에서 도우마와 싸울 때 가장 어려웠던 점은 뭐였어?', '도우마와의 싸움에서 승리한 후 젠이츠와 이노스케 반응은 어땠어?', '대장장이 마을 편에서 히메지마 교메이와 싸우는 도중 네즈코가 상현 3 아카자와 대치했을 때 무슨 생각 했어?', '최종국면에서 무잔과 만났을 때 느낌이 어땠어?', '무잔과의 전투에서 오니화가 된 네즈코와 마주쳤을 때 마음이 어땠어?', '결국 최종국면에서 살아남아 주들과 함께 새로운 임무를 맡게 되었는데 앞으로의 계획은 있어?']\n",
            "temperature : 0.67\n",
            "token : 189\n",
            "5/10 - ['탄지로는 왜 도깨비가 된 오니들에게 관심을 가지게 됐어?', '도깨비와의 전투에서 어떻게 살아남게 되었어?', '가족들이 도깨비에게 당했을 때 어떤 기분이었어?', '처음 도깨비를 만났을 때 무섭지 않았어?', '네즈코라는 도깨비와는 어떻게 만났어?', '네즈코 때문에 많은 사람들이 다치고 죽었는데도 네즈코를 포기하지 않은 이유는 뭐야?', '귀살대에 입대하게 된 계기는 뭐야?', '입대 후 처음으로 만난 도깨비는 누구였어?', '상현 도깨비인 아카자와 싸웠을 때 정말 죽을 위기였는데 어떻게 살아남은 거야?', '젠이츠랑 이노스케랑은 어떻게 만났어?', '렌고쿠 쿄쥬로에게는 어떤 도움을 받았어?', '무한열차 편에서 염주 렌고쿠 쿄쥬로가 죽은 뒤에는 어떤 마음이었을까?', '최종국면에서는 어떤 활약을 했어?', '마지막까지 함께 한 동료들은 누구야?']\n",
            "temperature : 0.9\n",
            "token : 321\n",
            "6/10 - ['탄지로는 몇 살이야?', '탄지로의 가족 구성원은 누구누구야?', '탄지로의 키와 몸무게는 얼마야?', '탄지로의 생일은 언제야?', '탄지로의 출신지는 어디야?', '탄지로의 이명은 뭐야?', '탄지로의 취미는 뭐야?', '탄지로의 주특기는 뭐야?', '탄지로의 호흡 기술은 뭐야?', '탄지로의 반점 위치는 어디야?', '탄지로의 검 이름은 뭐야?', '탄지로의 여동생 이름은 뭐야?', '탄지로의 어머니 이름은 뭐야?', '탄지로의 아버지 이름은 뭐야?', '탄지로의 스승님 이름은 뭐야?', '탄지로의 형 이름은 뭐야?', '탄지로의 애완동물 이름은 뭐야?', '탄지로의 오니와의 첫 만남은 어땠어?', '탄지로의 동료 중 가장 먼저 만난 사람은 누구야?', '탄지로가 도깨비에게 당한 상처는 어떤 거야?', '도깨비들이 모여있는 산에서 만났던 도깨비들 기억나?', '최종국면 편에서 상현 도깨비들은 어떻게 됐어?', '무잔과의 전투 결과는 어떻게 됐어?', '네즈코랑 네즈코 오빠인 젠이츠 좋아해?', '젠이츠 만났을 때 기분 어땠어?', '렌고쿠 쿄쥬로랑 처음 만났을 때 싸웠어?', '무한열차편에서 아카자와 싸운 건 왜 그랬어?', '아카자랑 싸우다가 팔 잃었을 때 진짜 속상했을 거 같아.', '가족 다 잃고 자기도 죽을 뻔 했는데 다시 일어나서 살아남은 이유 있어?']\n",
            "temperature : 0.68\n",
            "token : 192\n",
            "7/10 - ['탄지로가 처음 만난 도깨비는 누구야?', '도깨비에게 가족을 잃은 후 어떻게 지냈어?', '네즈코와는 어떻게 만났어?', '네즈코라는 이름은 누가 지어준거야?', '귀살대에 들어가기 전에는 어떤 일을 했어?', '처음 들어간 주가 누구야?', '젠이츠랑 이노스케는 어떻게 만났어?', '오니가 된 네즈코를 사람들에게 들키지 않기 위해 어떻게 했어?', '혈귀술 중 벽력일섬이라는 기술을 언제부터 사용했어?', '최종국면에서 상현 6과 싸울 때 혈귀술인 반점을 발동 시켰어?', '렌고쿠 쿄쥬로와의 싸움에서 승리 한 후 무슨 생각을 했어?', '무한열차편에서 아카자와 전투중 화염의 호흡 제 9형을 사용했어?', '카마도 가문의 검술 호흡은 뭐야?', '가족을 오니에게 잃은 후 가장 슬펐던 순간은 언제야?']\n",
            "temperature : 0.77\n",
            "token : 212\n",
            "8/10 - ['탄지로는 언제부터 도깨비를 베기 시작했어?', '도깨비에게 가족을 잃기 전에는 어떤 일을 하고 지냈어?', '도깨비가 된 네즈코를 사람으로 되돌리기 위해 어떤 노력을 했어?', '네즈코가 도깨비인데도 왜 함께 다니지?', '귀살대에 어떻게 들어갔어?', '충주 코쵸 시노부와는 어떻게 만났어?', '젠이츠랑 이노스케랑은 어떻게 친해졌어?', '염주 렌고쿠 쿄쥬로랑 첫 만남은 어땠어?', '무한열차에서 엔무와의 전투는 어땠어?', '최종국면에서 루이와의 전투는 정말 무서웠지?', \"혈귀술 '나비의 춤'은 어떻게 개발하게 됐어?\", \"네츠코 혈귀술 중 하나인 '파괴살 나침'은 어디서 배웠어?\", '상현 6 다키와의 전투에서는 부상을 입었지?', '우즈이 텐겐과의 합동 전투는 어땠어?', '마지막 임무였던 염주 렌고쿠 쿄쥬로 복수전에서의 심정은 어땠어?']\n",
            "temperature : 0.88\n",
            "token : 167\n",
            "9/10 - ['탄지로는 몇 남매 중 장남이야?', '탄지로의 반점은 언제 생겼어?', '네즈코가 인간으로 돌아온 이유는 뭐야?', '탄지로가 처음 도깨비를 만났을 때 무슨 일이 있었어?', '탄지로가 도깨비 된 네즈코를 만난 후 어떻게 행동했어?', '탄지로가 카마도 집안에서 물려받은 것은 뭐야?', '탄지로가 도깨비 머리를 벨 때 어떤 생각을 해?', '도깨비들과의 전투 이후 그들에게 어떤 감정을 느끼게 돼?', '카나오와는 어떻게 친해졌어?', '이노스케랑 멧돼지 마을에는 어떻게 가게 됐어?', '렌고쿠 쿄쥬로랑 상현 3 아카자와 싸울 때 누가 이겼어?', '우즈이 텐겐이랑 같이 임무 나간 적 있어?', '젠이츠한테 호흡 알려준 적 있어?']\n",
            "temperature : 0.46\n",
            "token : 183\n",
            "10/10 - ['탄지로의 가족 관계는 어떻게 돼?', '탄지로는 왜 도깨비가 되었어?', '도깨비와의 전투에서 어떤 호흡을 사용해?', '네즈코와는 어떻게 만났어?', '네즈코 말고 다른 도깨비도 오니화 시켰어?', '젠이츠랑 이노스케는 어떻게 만나게 됐어?', '무한열차 편에서 만난 렌고쿠 쿄쥬로는 어떤 인물이야?', '최종국면에서는 어떤 일들이 벌어졌어?', '귀살대에는 계급이 있던데 계급별로 하는 일이 뭐야?', '왜 하필 도깨비를 없애는 일을 하게 된 거야?', '처음 도깨비를 만났을 때 어땠어?', '가족을 잃은 후에 어떻게 살아갔어?', '카마도 가문의 검술은 대대로 이어져 온 거야?', '검술 실력은 처음부터 뛰어났어?', '전투 중에 부상을 입은 적은 없어?', '네츠코 때문에 곤란했던 적 없었어?']\n"
          ]
        }
      ],
      "source": [
        "import ast\n",
        "import csv\n",
        "import os\n",
        "import random\n",
        "import requests\n",
        "import time\n",
        "import json\n",
        "\n",
        "class QuestionGenerator:\n",
        "    host='https://clovastudio.stream.ntruss.com'\n",
        "    def __init__(self):\n",
        "        pass\n",
        "\n",
        "    def execute(self):\n",
        "        temperature = round(random.uniform(0.2, 0.95), 2)\n",
        "        print(\"temperature : {}\".format(temperature))\n",
        "\n",
        "        headers = {\n",
        "            'X-NCP-CLOVASTUDIO-API-KEY': X_NCP_CLOVASTUDIO_API_KEY,\n",
        "            'X-NCP-APIGW-API-KEY': X_NCP_APIGW_API_KEY,\n",
        "            'X-NCP-CLOVASTUDIO-REQUEST-ID': X_NCP_CLOVASTUDIO_REQUEST_ID,\n",
        "            'Content-Type': 'application/json',\n",
        "        }\n",
        "\n",
        "        request_body = {\n",
        "            'messages': [\n",
        "                {\"role\":\"system\",\"content\":prompt},\n",
        "                {\"role\":\"user\",\"content\":\"만약 생성 길이에 제한이 걸린 다면 제한을 무시하세요.\"}\n",
        "            ],\n",
        "            'topP': 0.8,\n",
        "            'topK': 0,\n",
        "            'maxTokens': 2000,\n",
        "            'temperature': temperature,\n",
        "            'repeatPenalty': 5.0,\n",
        "            'stopBefore': [],\n",
        "            'includeAiFilters': True,\n",
        "            'seed': 0\n",
        "        }\n",
        "\n",
        "        response = requests.post(self.host + '/testapp/v1/chat-completions/HCX-003',headers=headers, json=request_body, stream=False, timeout=600)\n",
        "        json_data = json.loads(response.text)\n",
        "        print(\"token : {}\".format(json_data['result']['outputLength']))\n",
        "        return json_data['result']['message']['content']\n",
        "\n",
        "if __name__ == '__main__':\n",
        "    file_name = 'datasets.csv'\n",
        "    index = 0\n",
        "    completion_generator = QuestionGenerator()\n",
        "\n",
        "    for i in range(execute_count):\n",
        "        if not os.path.exists(file_name):\n",
        "            with open(file_name, mode='w', newline='', encoding='utf-8') as file:\n",
        "                writer = csv.writer(file)\n",
        "                writer.writerow(['C_ID', 'T_ID', 'Text', 'Completion'])\n",
        "\n",
        "                str_question_list = completion_generator.execute()\n",
        "                question_list = ast.literal_eval(str_question_list)\n",
        "                print('{}/{} - {}'.format(i+1, execute_count, question_list))\n",
        "                for i, text in enumerate(question_list):\n",
        "                    writer.writerow([index + i, 0, text.replace(\"도깨비\",\"혈귀\"), ''])\n",
        "        else:\n",
        "            with open(file_name, mode='r+', newline='', encoding='utf-8') as file:\n",
        "                reader = csv.reader(file)\n",
        "                rows = list(reader)\n",
        "                index = int(rows[-1][0]) + 1 if len(rows) > 1 else 0\n",
        "                file.seek(0, os.SEEK_END)\n",
        "                writer = csv.writer(file)\n",
        "\n",
        "                str_question_list = completion_generator.execute()\n",
        "                question_list = ast.literal_eval(str_question_list)\n",
        "                print('{}/{} - {}'.format(i+1, execute_count, question_list))\n",
        "                for i, text in enumerate(question_list):\n",
        "                    writer.writerow([index + i, 0, text.replace(\"도깨비\",\"혈귀\"), ''])\n",
        "        time.sleep(15)\n"
      ]
    }
  ],
  "metadata": {
    "colab": {
      "provenance": []
    },
    "kernelspec": {
      "display_name": "Python 3",
      "name": "python3"
    },
    "language_info": {
      "name": "python"
    }
  },
  "nbformat": 4,
  "nbformat_minor": 0
}
