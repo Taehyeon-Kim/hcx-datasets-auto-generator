{
  "cells": [
    {
      "cell_type": "markdown",
      "metadata": {
        "id": "w4X2YU4rspyZ"
      },
      "source": [
        "# HyperCLOVA X 캐릭터챗봇 튜닝용 질문생성기\n",
        "📅 2024-07-11    \n",
        "🧑🏻‍💻 외계공룡\n",
        "    \n",
        "> *colab(https://colab.google/)에 접속해서 스크립트(`hcx_character_question_generator.ipynb`)를 불러온 후 사용하는것을 권장드립니다.*"
      ]
    },
    {
      "cell_type": "code",
      "execution_count": 7,
      "metadata": {
        "colab": {
          "base_uri": "https://localhost:8080/"
        },
        "id": "EiTC8qeysawF",
        "outputId": "0468b2be-44fc-4d3d-e43a-3b0a35ea5936"
      },
      "outputs": [
        {
          "name": "stdout",
          "output_type": "stream",
          "text": [
            "Python 3.10.12\n"
          ]
        }
      ],
      "source": [
        "!python --version # 파이썬 버전확인"
      ]
    },
    {
      "cell_type": "markdown",
      "metadata": {
        "id": "_5tH9Oi7waAP"
      },
      "source": [
        "# 🚀 실행 순서\n",
        "1. API 정보 입력\n",
        "2. 프롬프트 작성\n",
        "3. 코드 실행"
      ]
    },
    {
      "cell_type": "markdown",
      "metadata": {
        "id": "7kcSHKsWtPwv"
      },
      "source": [
        "# 1. API 정보 입력\n",
        "❗하단에 CLOVA Studio 테스트 앱 API 정보 입력"
      ]
    },
    {
      "cell_type": "code",
      "execution_count": 8,
      "metadata": {
        "id": "843Wgr1RtRtk"
      },
      "outputs": [],
      "source": [
        "X_NCP_CLOVASTUDIO_API_KEY='X-NCP-CLOVASTUDIO-API-KEY'\n",
        "X_NCP_APIGW_API_KEY='X-NCP-APIGW-API-KEY'\n",
        "X_NCP_CLOVASTUDIO_REQUEST_ID='X-NCP-CLOVASTUDIO-REQUEST-ID'"
      ]
    },
    {
      "cell_type": "markdown",
      "metadata": {
        "id": "EFz2c67GtWqB"
      },
      "source": [
        "# 2. 프롬프트 입력\n",
        "### 🪄 캐릭터 질문생성 프롬프트 TIP\n",
        "1. 원하는 캐릭터 선정 (ex. 귀멸의칼날 '카마도 탄지로')\n",
        "2. 역할 부여 (Role Assistant)\n",
        "3. 형식 지정 (Formatted Prompt)\n",
        "  - 정보 : 캐릭터 정보 입력 (나무위키 링크 크롤링 가능)\n",
        "  - 질문 생성 방법 : 답변 형식 지정 (최대 5개 추천)\n",
        "  - 질문 생성 예시 : 답변 포멧 지정 (엑셀에 복사 붙여넣기 편하도록 개행으로만 질문 구분)\n"
      ]
    },
    {
      "cell_type": "code",
      "execution_count": 23,
      "metadata": {
        "id": "P1Uah8rztU2o"
      },
      "outputs": [],
      "source": [
        "prompt = '''\n",
        "당신은 일본 애니메이션 귀멸의 칼날을 시청한 상태입니다.\n",
        "상대방이 탄지로라고 가정하고 아래 정보와 질문 생성 방법을 바탕으로 궁금한 점들을 100개 이상 질문하세요.\n",
        "단, 정보를 파악할 때는 주의사항을 반드시 지켜주세요.\n",
        "\n",
        "### 정보 ###\n",
        "https://namu.wiki/w/%EC%B9%B4%EB%A7%88%EB%8F%84%20%ED%83%84%EC%A7%80%EB%A1%9C\n",
        "\n",
        "### 정보 파악시 주의사항 ###\n",
        "- 귀멸학원에 해당하는 내용은 사용하지 않는다.\n",
        "\n",
        "### 질문 생성 방법 ###\n",
        "- 대화체로 생성한다.\n",
        "- 질문은 전부 반말로 생성한다.\n",
        "- 줄거리와 관련된 질문들을 많이 생성한다.\n",
        "- 질문은 다음과 같은 형식으로 출력한다. [\\\"첫 번째 질문\\\", \\\"두 번째 질문\\\", ...]\n",
        "'''"
      ]
    },
    {
      "cell_type": "markdown",
      "metadata": {
        "id": "8fYMjFa-xGvS"
      },
      "source": [
        "# 3. 코드 실행\n",
        "`execute_count` 수 만큼 반복문 실행됨 (💸 과금 주의 )"
      ]
    },
    {
      "cell_type": "code",
      "execution_count": 14,
      "metadata": {
        "id": "nASePctq4ANu"
      },
      "outputs": [],
      "source": [
        "execute_count=3"
      ]
    },
    {
      "cell_type": "code",
      "execution_count": 24,
      "metadata": {
        "colab": {
          "base_uri": "https://localhost:8080/"
        },
        "id": "31cz4sNLxO7z",
        "outputId": "bf80b1a4-2c4a-4b25-9f06-965913d6e0d5"
      },
      "outputs": [
        {
          "name": "stdout",
          "output_type": "stream",
          "text": [
            "temperature : 0.91\n",
            "token : 179\n",
            "1/3 - ['탄지로의 가족 구성원은 어떻게 됐어?', '네즈코가 인간으로 돌아오려면 어떻게 해야 돼?', '탄지로는 왜 귀살대가 되려고 한 거야?', '귀살대에서는 계급이 어떻게 나뉘어?', '충주 코쵸우 시노부는 어떤 인물이야?', '젠이츠랑 이노스케는 언제부터 탄지로와 함께 다녔어?', '혈귀 중에서 가장 센 혈귀는 누구야?', '최종국면에서 무잔이랑 싸웠을 때 어땠어?', '상현 6 다키랑 규타로 남매랑은 어떻게 만났어?', '도깨비들 때문에 많은 사람들이 죽었는데 그 사실을 알고 난 후 기분이 어땠어?', '가족을 잃은 슬픔을 어떻게 극복했어?', '기유한테 검술을 배운 적 있어?', '네츠코가 상현 3 아카자와 싸울 때 뭐 하고 있었어?', '처음 도깨비를 만났을 때 무섭지 않았어?']\n",
            "temperature : 0.29\n",
            "token : 724\n",
            "2/3 - ['탄지로는 왜 도깨비에게 가족을 잃었어?', '도깨비가 된 네즈코를 사람으로 되돌리기 위해 어떤 노력을 했어?', '네즈코 말고 다른 도깨비도 만난 적 있어?', '도깨비를 만났을 때 어떻게 싸웠어?', '도깨비와의 전투에서 가장 어려웠던 상대는 누구야?', '젠이츠랑 이노스케와는 어떻게 만났어?', '셋이서 함께 도깨비를 퇴치하러 다닌 이유는 뭐야?', '귀살대에는 어떻게 들어갔어?', '주들 중에서는 누구와 가장 친했어?', '무한열차 편에서 렌고쿠 쿄쥬로와 싸울 때 무슨 생각을 했어?', '렌고쿠한테 배운 것 중 제일 중요하다고 생각하는 건 뭐야?', '최종국면편에서 무잔과의 싸움에서 승리 할 수 있었던 이유는 뭐라고 생각해?', '가족을 잃은 슬픔을 어떻게 극복했어?', '네즈코 때문에 위험했던 상황이 있었어?', '네즈코가 인간으로 돌아온 후에도 계속 데리고 다녔어?', '이노스케나 젠이츠 외에 다른 친구들은 없어?', '좋아하는 음식은 뭐야?', '취미는 뭐야?', '가장 좋아하는 일은 뭐야?', '잠버릇이나 특이한 습관같은 거 있어?', '본인 성격이랑 잘 맞는다고 생각하는 주 있어?', '자신 있는 호흡은 뭐야?', '호흡을 처음 배울 때 어땠어?', '전투중에 부상을 입은 적은 없었어?', '부상을 입었을 때 어떻게 대처했어?', '훈련은 주로 어디서 했어?', '검술 실력은 어느 정도야?', '집중력이나 체력은 어때?', '위기상황에서 당황하지 않고 침착하게 대응하는 편이야?', '동료들이 위기에 처했을 때 어떻게 도와줬어?', '다른 대원들 사이에서 인기 많아?', '대원들 생일 챙겨준 적 있어?', '요리실력은 어때?', '청소나 빨래같은 집안일도 해?', '동생인 네즈코를 엄청 아끼던데 언제부터 그랬어?', '네즈코말고 형제자매 또 있어?', '네즈코처럼 도깨비가 되고 싶다는 생각 한 적 있어?', '어릴 때 꿈은 뭐였어?', '지금 목표는 뭐야?', '어떤 어른이 되고 싶어?', '인생에서 가장 중요하다고 생각하는 가치는 뭐야?', '좌우명이나 신조같은 거 있어?', '스트레스 받을 때는 어떻게 풀어?', '슬럼프에 빠졌을 때는 어떻게 극복했어?', '실패를 경험했을 때는 어떻게 대처했어?', '대인관계에서 갈등이 생겼을 때는 어떻게 해결했어?', '누군가를 진심으로 사랑해 본 적 있어?', '연애경험 있어?', '결혼생각 있어?', '아이를 낳으면 어떤 부모가 되고 싶어?', '행복이란 뭐라고 생각해?', '삶의 의미는 뭐라고 생각해?', '죽음에 대해 어떻게 생각해?', '귀신이라는 존재 믿어?', '종교있어?', '여행 좋아해?', '가장 기억에 남는 여행지는 어디야?', '혼자 있을 때는 주로 뭐해?', '친구들이랑 모이면 주로 뭐하면서 놀아?', '음악 듣는 거 좋아해?', '좋아하는 가수나 노래 있어?', '영화보는 거 좋아해?', '좋아하는 장르나 배우 있어?', '책 읽는 거 좋아해?', '좋아하는 작가나 책 있어?', '운동하는 거 좋아해?', '좋아하는 스포츠나 선수 있어?', '동물 좋아해?', '좋아하는 동물 있어?', '식물 키우는 거 좋아해?', '좋아하는 식물 있어?', '사진 찍는 거 좋아해?', '좋아하는 장소나 풍경 있어?', '그림 그리는 거 좋아해?', '좋아하는 화가나 그림 있어?', '게임하는 거 좋아해?', '좋아하는 게임 있어?', '수집하는 취미 있어?', '좋아하는 물건이나 캐릭터 있어?']\n",
            "temperature : 0.7\n",
            "token : 1202\n",
            "3/3 - ['탄지로 네즈코랑 어떻게 만났어?', '네즈코가 사람을 먹는 원인이 뭐야?', '처음 도깨비를 만났을 때 어떤 느낌이었어?', '가족들이 도깨비한테 당했을 때 심정이 어땠어?', '도깨비에게 가족을 잃은 후 어떻게 살아갔어?', '왜 귀살대가 되려고 결심했어?', '귀살대에 들어가기 전까지 무슨 일을 했어?', \"카마도 가문의 혈귀술인 '나비의 춤'은 언제부터 쓸 수 있게 됐어?\", '어떻게 나비의 춤을 익혔어?', '검술은 누구한테 배웠어?', '스승님이신 히노카미 카구라의 전승자 우로코다키 사콘지는 어떤 분이야?', '우로코다키 사콘지 밑에서 몇 년 동안 있었어?', '동생 네즈코 말고 다른 가족 있어?', '네즈코 외에도 동생들이랑 사이 좋았어?', '네츠코 말고도 형제자매들은 다 도깨비야?', '젠이츠와는 어떻게 만났어?', '이노스케와는 어떻게 만났어?', '셋이서 처음 만났을 때 첫인상이 어땠어?', '호흡이란 건 뭐야?', '물의 호흡 제 1형 수면베기라는 기술은 어떻게 쓰는 거야?', '일륜도는 어떻게 손에 넣었어?', '작중에서 가장 마음에 드는 에피소드는 뭐야?', '가장 기억에 남는 대사 있어?', '혈귀 중에 가장 인상 깊은 캐릭터는 누구야?', '최종국면편에서 무잔과의 전투 장면 보면서 어땠어?', '주들 중에 제일 존경하는 사람은 누구야?', '좋아하는 음식은 뭐야?', '취미는 뭐야?', '이상형은 어때?', '네즈코가 인간으로 돌아왔을 때 기분이 어땠어?', '네즈코가 햇빛을 봐도 괜찮은 이유가 뭐야?', '네즈코가 상현 6 규타로와의 전투 이후 각성 했을 때 놀랐어?', '네즈코가 완전한 도깨비가 됐을 때 걱정되지 않았어?', '네즈코가 만약 완전히 도깨비가 된다면 어떻게 할 거야?', '무한열차 편에서 렌고쿠 쿄쥬로와 싸웠을 때 엄청 긴장했지?', '렌고쿠 쿄쥬로와 마지막 인사 나눌 때 슬펐어?', '쿄쥬로의 유언 듣고 울었어?', '무잔과 싸우기 전에 아카자와 싸울 때 고전 했는데 그때 심정이 어땠어?', '아카자와 싸운 뒤 정신적으로 힘들어 하던데 극복하게 된 계기가 뭐야?', '우즈이 텐겐이라는 인물 좋아해?', '텐겐과는 첫 만남이 어땠어?', '사네미랑은 왜 사이가 안 좋아?', '충주 코쵸 시노부라는 인물 알아?', '시노부에게는 호감 있는 것 같던데 맞나?', '기유라는 인물하고는 친해?', '요리 잘 해?', '네즈코 요리 먹어 봤어?', '네즈코 요리는 맛이 어때?', '잠버릇 있어?', '잘 하는 스포츠 있어?', '스트레스 받으면 어떻게 풀어?', '최근에 본 영화나 책 있어?', '좋아하는 음악 장르 있어?', '어떤 계절 좋아해?', '동물 키워?', '제일 좋아하는 동물은 뭐야?', '벌레 싫어해?', '공포영화 볼 수 있어?', '귀신이나 도깨비 실제로 있다고 믿어?', '무서운 이야기 들으면 반응이 어때?', '고소공포증 있어?', '혼자서 여행 가본 적 있어?', '해외여행 가보고 싶은 곳 있어?', '좌우명 있어?', '자신의 장점 3가지 말해봐.', '단점 3가지 말해봐.', '인생에서 가장 중요하다고 생각하는 가치관은 뭐야?', '본인 성격은 어떻다고 생각해?', '친구 많아?', '자주 만나는 친구 있어?', '연애 경험 있어?', '데이트 하고 싶은 장소 있어?', '결혼에 대해 어떻게 생각해?', '자녀 계획 있어?', '장래희망이 뭐야?', '10년 뒤에는 어떤 모습일 것 같아?', '살면서 가장 후회 되는 일 있어?', '가장 행복했던 순간은 언제야?', '슬럼프에 빠지면 어떻게 극복해?', '고민 있을 때 누구한테 털어놔?', '자기계발을 위해 노력하는 게 있어?', '건강 관리 어떻게 해?', '체력 유지를 위해 하는 운동 있어?', '다이어트 해본 적 있어?', '식습관은 어때?', '음주와 흡연 해?', '종교 있어?', '신을 믿어?', '기도 자주 해?', '절이나 교회 다녀?', '봉사활동 해봤어?', '기부나 후원 해?', '환경 보호에 관심 있어?', '사회적 이슈에 대해 관심 있어?', '정치 성향은 어때?', '경제적으로 독립 했어?', '돈 관리는 어떻게 해?', '재테크 해?', '주식이나 부동산 투자 해?', '노후 준비 하고 있어?', '인간관계에서 가장 중요하다고 생각하는 건 뭐야?', '대인관계에서 스트레스 받는 일 있어?', '갈등이 생기면 어떻게 해결해?', '남의 의견을 잘 수용하는 편이야?', '대화할 때 상대방의 말을 경청하는 편이야?', '말을 조리 있게 잘 해?', '글 잘 써?', '그림 잘 그려?', '노래나 춤 잘 춰?', '악기 다룰 줄 아는 거 있어?', '운전면허 있어?', '운전 잘 해?', '자전거 탈 줄 알아?', '수영 할 줄 알아?', '등산 좋아해?', '캠핑 좋아해?', '게임 좋아해?', '즐겨하는 게임 있어?', '스마트폰 앱 활용 잘 해?', '컴퓨터나 노트북 잘 다뤄?', '기계치야?', '외국어 구사 능력 있어?', '영어 잘 해?', '일본어 잘 해?', '중국어 잘 해?', '제2외국어 배운 적 있어?', '어학연수나 유학 다녀온 적 있어?', '다양한 문화에 관심 있어?', '새로운 경험을 추구하는 편이야?', '도전정신이 강해?', '창의적인 사고를 하는 편이야?', '문제해결능력이 뛰어나?', '위기 대처 능력이 뛰어나?', '리더십이 있어?', '팔방미인이네!', '정말 대단하다!', '너의 열정과 노력에 박수를 보내고 싶어!', '앞으로도 계속 성장하고 발전하는 모습 기대할게!']\n"
          ]
        }
      ],
      "source": [
        "import ast\n",
        "import csv\n",
        "import os\n",
        "import random\n",
        "import requests\n",
        "import time\n",
        "import json\n",
        "\n",
        "class QuestionGenerator:\n",
        "    host='https://clovastudio.stream.ntruss.com'\n",
        "    def __init__(self):\n",
        "        pass\n",
        "\n",
        "    def execute(self):\n",
        "        temperature = round(random.uniform(0.2, 0.95), 2)\n",
        "        print(\"temperature : {}\".format(temperature))\n",
        "\n",
        "        headers = {\n",
        "            'X-NCP-CLOVASTUDIO-API-KEY': X_NCP_CLOVASTUDIO_API_KEY,\n",
        "            'X-NCP-APIGW-API-KEY': X_NCP_APIGW_API_KEY,\n",
        "            'X-NCP-CLOVASTUDIO-REQUEST-ID': X_NCP_CLOVASTUDIO_REQUEST_ID,\n",
        "            'Content-Type': 'application/json',\n",
        "        }\n",
        "\n",
        "        request_body = {\n",
        "            'messages': [\n",
        "                {\"role\":\"system\",\"content\":prompt},\n",
        "                {\"role\":\"user\",\"content\":\"만약 생성 길이에 제한이 걸린 다면 제한을 무시하세요.\"}\n",
        "            ],\n",
        "            'topP': 0.8,\n",
        "            'topK': 0,\n",
        "            'maxTokens': 2000,\n",
        "            'temperature': temperature,\n",
        "            'repeatPenalty': 5.0,\n",
        "            'stopBefore': [],\n",
        "            'includeAiFilters': True,\n",
        "            'seed': 0\n",
        "        }\n",
        "\n",
        "        response = requests.post(self.host + '/testapp/v1/chat-completions/HCX-003',headers=headers, json=request_body, stream=False, timeout=600)\n",
        "        json_data = json.loads(response.text)\n",
        "        print(\"token : {}\".format(json_data['result']['outputLength']))\n",
        "        return json_data['result']['message']['content']\n",
        "\n",
        "if __name__ == '__main__':\n",
        "    file_name = 'datasets.csv'\n",
        "    index = 0\n",
        "    completion_generator = QuestionGenerator()\n",
        "\n",
        "    for i in range(execute_count):\n",
        "        if not os.path.exists(file_name):\n",
        "            with open(file_name, mode='w', newline='', encoding='utf-8') as file:\n",
        "                writer = csv.writer(file)\n",
        "                writer.writerow(['C_ID', 'T_ID', 'Text', 'Completion'])\n",
        "\n",
        "                str_question_list = completion_generator.execute()\n",
        "                question_list = ast.literal_eval(str_question_list)\n",
        "                print('{}/{} - {}'.format(i+1, execute_count, question_list))\n",
        "                for i, text in enumerate(question_list):\n",
        "                    writer.writerow([index + i, 0, text.replace(\"도깨비\",\"혈귀\"), ''])\n",
        "        else:\n",
        "            with open(file_name, mode='r+', newline='', encoding='utf-8') as file:\n",
        "                reader = csv.reader(file)\n",
        "                rows = list(reader)\n",
        "                index = int(rows[-1][0]) + 1 if len(rows) > 1 else 0\n",
        "                file.seek(0, os.SEEK_END)\n",
        "                writer = csv.writer(file)\n",
        "\n",
        "                str_question_list = completion_generator.execute()\n",
        "                question_list = ast.literal_eval(str_question_list)\n",
        "                print('{}/{} - {}'.format(i+1, execute_count, question_list))\n",
        "                for i, text in enumerate(question_list):\n",
        "                    writer.writerow([index + i, 0, text.replace(\"도깨비\",\"혈귀\"), ''])\n"
      ]
    }
  ],
  "metadata": {
    "colab": {
      "provenance": []
    },
    "kernelspec": {
      "display_name": "Python 3",
      "name": "python3"
    },
    "language_info": {
      "name": "python"
    }
  },
  "nbformat": 4,
  "nbformat_minor": 0
}
